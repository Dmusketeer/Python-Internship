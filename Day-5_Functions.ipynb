{
 "cells": [
  {
   "cell_type": "code",
   "execution_count": 26,
   "metadata": {},
   "outputs": [
    {
     "name": "stdout",
     "output_type": "stream",
     "text": [
      "10\n",
      "3\n",
      "Addition of num1 and num2 is : 13\n",
      "Subtraction of num1 and num2 is : 7\n",
      "Multiplication of num1 and num2 is : 30\n",
      "Division of num1 and num2 is : 3.3333333333333335\n"
     ]
    }
   ],
   "source": [
    "# Que:1) Create a function getting two integer inputs from user. & print the following:\n",
    "# Addition of two numbers is +value\n",
    "# Subtraction of two numbers is +value\n",
    "# Division of two numbers is +value\n",
    "# Multiplication of two numbers is +value\n",
    "\n",
    "num1=int(input(''))\n",
    "num2=int(input(''))\n",
    "def fun(num1,num2):\n",
    "    print('Addition of num1 and num2 is :',num1+num2)\n",
    "    print('Subtraction of num1 and num2 is :',num1-num2)\n",
    "    print('Multiplication of num1 and num2 is :',num1*num2)\n",
    "    print('Division of num1 and num2 is :',num1/num2)\n",
    "fun(num1,num2)"
   ]
  },
  {
   "cell_type": "code",
   "execution_count": 33,
   "metadata": {},
   "outputs": [
    {
     "name": "stdout",
     "output_type": "stream",
     "text": [
      "Enter patient name :rahul\n",
      "enter temprature of the body:\n",
      "patient_name: rahul body_temperature 98\n"
     ]
    }
   ],
   "source": [
    "# Que:2. Create a function covid( ) & it should accept patient name, and body temperature, \n",
    "#         by default the body temperature should be 98 degree\n",
    "\n",
    "patient_name=input('Enter patient name :')\n",
    "body_temperature=input('enter temprature of the body:')\n",
    "\n",
    "def covid(patient_name,body_temperature):\n",
    "    return print('patient_name:',patient_name,'body_temperature',body_temperature)\n",
    "covid(patient_name,body_temperature=98)"
   ]
  },
  {
   "cell_type": "code",
   "execution_count": 3,
   "metadata": {},
   "outputs": [
    {
     "name": "stdout",
     "output_type": "stream",
     "text": [
      "[20, 2, 3, 4, 5]\n"
     ]
    }
   ],
   "source": [
    "# Example:\n",
    "def myFun(num): \n",
    "           num[0] = 20\n",
    "lst = [1, 2, 3, 4, 5]  \n",
    "myFun(lst)\n",
    "print(lst)"
   ]
  },
  {
   "cell_type": "code",
   "execution_count": 4,
   "metadata": {},
   "outputs": [
    {
     "name": "stdout",
     "output_type": "stream",
     "text": [
      "The youngest member is sam\n"
     ]
    }
   ],
   "source": [
    "# Example:\n",
    "def my_function(*team):\n",
    "    print(\"The youngest member is \" + team[0])\n",
    "\n",
    "my_function(\"sam\", \"tom\", \"ben\")\n"
   ]
  },
  {
   "cell_type": "code",
   "execution_count": 18,
   "metadata": {},
   "outputs": [
    {
     "name": "stdout",
     "output_type": "stream",
     "text": [
      "His last player is Deepak\n"
     ]
    }
   ],
   "source": [
    "# Example:\n",
    "def my_function(**players):\n",
    "    print(\"His last player is \" + players[\"lplayer\"])\n",
    "my_function(fplayer = \"Rayudu\", lplayer = \"Deepak\")\n"
   ]
  }
 ],
 "metadata": {
  "kernelspec": {
   "display_name": "Python 3",
   "language": "python",
   "name": "python3"
  },
  "language_info": {
   "codemirror_mode": {
    "name": "ipython",
    "version": 3
   },
   "file_extension": ".py",
   "mimetype": "text/x-python",
   "name": "python",
   "nbconvert_exporter": "python",
   "pygments_lexer": "ipython3",
   "version": "3.7.6"
  }
 },
 "nbformat": 4,
 "nbformat_minor": 4
}
