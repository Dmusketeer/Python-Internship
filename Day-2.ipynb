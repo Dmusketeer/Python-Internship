{
 "cells": [
  {
   "cell_type": "code",
   "execution_count": 1,
   "metadata": {},
   "outputs": [
    {
     "name": "stdout",
     "output_type": "stream",
     "text": [
      "2.0\n",
      "1000\n",
      "80\n"
     ]
    }
   ],
   "source": [
    "#Que.1:Create three variables (a,b,c) to same value of any integer & do the following\n",
    "#     a)\tDivide a by 10\n",
    "#     b)\tMultiply b by 50\n",
    "#     c)\tAdd c value by 60\n",
    "\n",
    "a=b=c=20\n",
    "print(a/10)\n",
    "print(b*50)\n",
    "print(c+60)"
   ]
  },
  {
   "cell_type": "code",
   "execution_count": 3,
   "metadata": {},
   "outputs": [
    {
     "name": "stdout",
     "output_type": "stream",
     "text": [
      "DhGru\n"
     ]
    }
   ],
   "source": [
    "#Que.2: Create a String variable of 5 characters  and replace the 3rd character with G.\n",
    "s='Dhiru'\n",
    "newStr=s.replace('i','G')\n",
    "print(newStr)\n"
   ]
  },
  {
   "cell_type": "code",
   "execution_count": 4,
   "metadata": {},
   "outputs": [
    {
     "name": "stdout",
     "output_type": "stream",
     "text": [
      "10.0\n",
      "14\n"
     ]
    }
   ],
   "source": [
    "# Que.3:Create two values (a,b) of int,float data type & convert the vise versa,\n",
    "#        Hint : convert a from int to float datatype & b from float to int datatype.\n",
    "a=10\n",
    "b=14.12\n",
    "print(float(a))\n",
    "print(int(b))"
   ]
  },
  {
   "cell_type": "code",
   "execution_count": null,
   "metadata": {},
   "outputs": [],
   "source": []
  }
 ],
 "metadata": {
  "kernelspec": {
   "display_name": "Python 3",
   "language": "python",
   "name": "python3"
  },
  "language_info": {
   "codemirror_mode": {
    "name": "ipython",
    "version": 3
   },
   "file_extension": ".py",
   "mimetype": "text/x-python",
   "name": "python",
   "nbconvert_exporter": "python",
   "pygments_lexer": "ipython3",
   "version": "3.7.6"
  }
 },
 "nbformat": 4,
 "nbformat_minor": 4
}
