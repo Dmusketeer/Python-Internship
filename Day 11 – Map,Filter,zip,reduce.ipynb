{
 "cells": [
  {
   "cell_type": "code",
   "execution_count": 23,
   "metadata": {},
   "outputs": [
    {
     "name": "stdout",
     "output_type": "stream",
     "text": [
      "[('a', 1), ('b', 2), ('c', 3), ('d', 4)]\n"
     ]
    }
   ],
   "source": [
    "# Que:1.\tWrite a program using zip() function and list() function, create a merged list of tuples from \n",
    "#             the two lists given\n",
    "l1=['a','b','c','d']\n",
    "l2=[1,2,3,4]\n",
    "print(list(zip(l1,l2)))"
   ]
  },
  {
   "cell_type": "code",
   "execution_count": 24,
   "metadata": {},
   "outputs": [
    {
     "name": "stdout",
     "output_type": "stream",
     "text": [
      "[('a', 1), ('b', 2), ('c', 3), ('d', 4), ('e', 5), ('f', 6), ('g', 7), ('h', 8)]\n"
     ]
    }
   ],
   "source": [
    "# Que:2.\tFirst create a range from 1 to 8. Then using zip, merge the given list and the\n",
    "#             range together to create a new list of tuples.\n",
    "\n",
    "x=[i for i in range(1,9)]\n",
    "l1=['a','b','c','d','e','f','g','h']\n",
    "print(list(zip(l1,x)))"
   ]
  },
  {
   "cell_type": "code",
   "execution_count": 33,
   "metadata": {},
   "outputs": [
    {
     "name": "stdout",
     "output_type": "stream",
     "text": [
      "[0, 1, 2, 4, 7, 7, 20, 23, 24]\n"
     ]
    }
   ],
   "source": [
    "# Que:3.\tUsing sorted() function, sort the list in ascending order.\n",
    "x=[23,1,24,4,7,2,0,7,20]\n",
    "print(sorted(x))"
   ]
  },
  {
   "cell_type": "code",
   "execution_count": 40,
   "metadata": {},
   "outputs": [
    {
     "name": "stdout",
     "output_type": "stream",
     "text": [
      "Filtered seq. is as follows:  [2, 4, 8, 10]\n"
     ]
    }
   ],
   "source": [
    "# Que:54.\tWrite a program using filter function, filter the even numbers so that only odd numbers are passed \n",
    "#             to the new list.\n",
    "\n",
    "# list of numbers\n",
    "numbers = [1, 2, 4, 5, 7, 8, 10, 11]\n",
    "\n",
    "# function that filters vowels\n",
    "def filterOddNum(in_num):\n",
    "\n",
    "    if(in_num % 2) == 0:\n",
    "        return True\n",
    "    else:\n",
    "        return False\n",
    "\n",
    "# Demonstrating filter() to remove odd numbers\n",
    "out_filter = filter(filterOddNum, numbers)\n",
    "print(\"Filtered seq. is as follows: \", list(out_filter))"
   ]
  },
  {
   "cell_type": "markdown",
   "metadata": {},
   "source": [
    " Example:"
   ]
  },
  {
   "cell_type": "code",
   "execution_count": 1,
   "metadata": {},
   "outputs": [
    {
     "name": "stdout",
     "output_type": "stream",
     "text": [
      "[2, 4, 6, 8]\n"
     ]
    }
   ],
   "source": [
    "def addition(n): \n",
    "    return n + n \n",
    "  \n",
    "# We double all numbers using map() \n",
    "numbers = (1, 2, 3, 4) \n",
    "result = map(addition, numbers) \n",
    "print(list(result)) \n"
   ]
  },
  {
   "cell_type": "code",
   "execution_count": 4,
   "metadata": {},
   "outputs": [
    {
     "name": "stdout",
     "output_type": "stream",
     "text": [
      "(['s', 'a', 't'], ['b', 'a', 't'], ['c', 'a', 't'], ['m', 'a', 't'])\n"
     ]
    }
   ],
   "source": [
    "# List of strings \n",
    "l = ['sat', 'bat', 'cat', 'mat']  \n",
    "# map() can listify the list of strings individually \n",
    "test = tuple(map(list, l))\n",
    "print(test)\n"
   ]
  },
  {
   "cell_type": "code",
   "execution_count": 11,
   "metadata": {},
   "outputs": [
    {
     "name": "stdout",
     "output_type": "stream",
     "text": [
      "False\n",
      "True\n",
      "The filtered letters are:\n",
      "e\n",
      "e\n",
      "u\n"
     ]
    }
   ],
   "source": [
    "def fun(variable): \n",
    "    letters = ['a', 'e', 'i', 'o', 'u'] \n",
    "    if (variable in letters): \n",
    "        return True\n",
    "    else: \n",
    "        return False\n",
    "print(fun('d'))\n",
    "print(fun('a'))\n",
    "sequence = ['g', 'e', 'e', 'j', 'k', 's', 'p', 'u'] \n",
    "# using filter function \n",
    "filtered = filter(fun, sequence) \n",
    "print('The filtered letters are:') \n",
    "for s in filtered: \n",
    "    print(s)"
   ]
  },
  {
   "cell_type": "code",
   "execution_count": 21,
   "metadata": {},
   "outputs": [
    {
     "name": "stdout",
     "output_type": "stream",
     "text": [
      "[('John', 'Jenny'), ('Charles', 'Christy'), ('Mike', 'Monica')]\n"
     ]
    }
   ],
   "source": [
    "a = [\"John\", \"Charles\", \"Mike\"]\n",
    "b = [\"Jenny\", \"Christy\", \"Monica\"]\n",
    "\n",
    "x = zip(a, b)\n",
    "print(list(x))\n",
    "\n",
    "#wrong prediction:\n",
    "# [['John', 'Jenny'], ['Charles', 'Christy'], ['Mike', 'Monica']]"
   ]
  },
  {
   "cell_type": "code",
   "execution_count": 20,
   "metadata": {},
   "outputs": [
    {
     "data": {
      "text/plain": [
       "[['John', 'Jenny'], ['Charles', 'Christy'], ['Mike', 'Monica']]"
      ]
     },
     "execution_count": 20,
     "metadata": {},
     "output_type": "execute_result"
    }
   ],
   "source": [
    "[['John', 'Jenny'], ['Charles', 'Christy'], ['Mike', 'Monica']]"
   ]
  },
  {
   "cell_type": "code",
   "execution_count": 22,
   "metadata": {},
   "outputs": [
    {
     "name": "stdout",
     "output_type": "stream",
     "text": [
      "The sum of the list elements is : 17\n",
      "The maximum element of the list is : 6\n"
     ]
    }
   ],
   "source": [
    "import functools \n",
    "  \n",
    "lis = [ 1 , 3, 5, 6, 2, ] \n",
    "  \n",
    "print (\"The sum of the list elements is : \",end=\"\") \n",
    "print (functools.reduce(lambda a,b : a+b,lis)) \n",
    "  \n",
    "print (\"The maximum element of the list is : \",end=\"\") \n",
    "print (functools.reduce(lambda a,b : a if a > b else b,lis)) \n"
   ]
  }
 ],
 "metadata": {
  "kernelspec": {
   "display_name": "Python 3",
   "language": "python",
   "name": "python3"
  },
  "language_info": {
   "codemirror_mode": {
    "name": "ipython",
    "version": 3
   },
   "file_extension": ".py",
   "mimetype": "text/x-python",
   "name": "python",
   "nbconvert_exporter": "python",
   "pygments_lexer": "ipython3",
   "version": "3.7.6"
  }
 },
 "nbformat": 4,
 "nbformat_minor": 4
}
