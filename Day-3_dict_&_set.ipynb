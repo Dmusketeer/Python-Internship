{
 "cells": [
  {
   "cell_type": "code",
   "execution_count": 1,
   "metadata": {},
   "outputs": [
    {
     "name": "stdout",
     "output_type": "stream",
     "text": [
      "{'name1': 'Mohan', 'age1': 24, 'id1': 1234, 'name2': 'Raj', 'age2': 22, 'id2': 1236}\n"
     ]
    }
   ],
   "source": [
    "#Que:1)\tWrite a Python script to merge two Python dictionaries\n",
    "dict1={'name1':'Mohan','age1':24,'id1':1234}\n",
    "dict2={'name2':'Raj','age2':22,'id2':1236}\n",
    "dict3=dict1.copy()\n",
    "dict3.update(dict2)\n",
    "print(dict3)"
   ]
  },
  {
   "cell_type": "code",
   "execution_count": 2,
   "metadata": {},
   "outputs": [
    {
     "name": "stdout",
     "output_type": "stream",
     "text": [
      "{'name1': 'Mohan', 'age1': 24}\n"
     ]
    }
   ],
   "source": [
    "# Que:2)\tWrite a Python program to remove a key from a dictionary\n",
    "del dict1['id1']\n",
    "print(dict1)"
   ]
  },
  {
   "cell_type": "code",
   "execution_count": 3,
   "metadata": {},
   "outputs": [
    {
     "name": "stdout",
     "output_type": "stream",
     "text": [
      "{'a': 1, 'b': 2, 'c': 3}\n"
     ]
    }
   ],
   "source": [
    "# Que:3)\tWrite a Python program to map two lists into a dictionary\n",
    "lst1=['a','b','c']\n",
    "lst2=[1,2,3]\n",
    "print(dict(zip(lst1,lst2)))"
   ]
  },
  {
   "cell_type": "code",
   "execution_count": 4,
   "metadata": {},
   "outputs": [
    {
     "name": "stdout",
     "output_type": "stream",
     "text": [
      "4\n"
     ]
    }
   ],
   "source": [
    "# Que:4)\tWrite a Python program to find the length of a set\n",
    "st={1,2,'a',3}\n",
    "print(len(st))"
   ]
  },
  {
   "cell_type": "code",
   "execution_count": 5,
   "metadata": {},
   "outputs": [
    {
     "name": "stdout",
     "output_type": "stream",
     "text": [
      "{1, 2, 3}\n"
     ]
    }
   ],
   "source": [
    "# Que:5)\tWrite a Python program to remove the intersection of a 2nd set from the 1st set\n",
    "st1={1,2,3,4,5}\n",
    "st2={4,5,6,7,8}\n",
    "print(st1-st2)\n",
    "# st1.difference_update(st2)\n",
    "# print(st1)"
   ]
  }
 ],
 "metadata": {
  "kernelspec": {
   "display_name": "Python 3",
   "language": "python",
   "name": "python3"
  },
  "language_info": {
   "codemirror_mode": {
    "name": "ipython",
    "version": 3
   },
   "file_extension": ".py",
   "mimetype": "text/x-python",
   "name": "python",
   "nbconvert_exporter": "python",
   "pygments_lexer": "ipython3",
   "version": "3.7.6"
  }
 },
 "nbformat": 4,
 "nbformat_minor": 4
}
