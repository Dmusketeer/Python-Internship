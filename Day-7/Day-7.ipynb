{
 "cells": [
  {
   "cell_type": "code",
   "execution_count": 21,
   "metadata": {},
   "outputs": [
    {
     "name": "stdout",
     "output_type": "stream",
     "text": [
      "New list is :  [1, 2, 3, 4, 5, 6, 7, 8, 9, 10]\n"
     ]
    }
   ],
   "source": [
    "%run mymodule.ipynb\n",
    "for i in range(5,11):\n",
    "    lst.append(i)\n",
    "print('New list is : ',\n",
    "      lst)"
   ]
  },
  {
   "cell_type": "code",
   "execution_count": 22,
   "metadata": {},
   "outputs": [
    {
     "name": "stdout",
     "output_type": "stream",
     "text": [
      "Requirement already satisfied: pandas in f:\\programs\\anaconda\\lib\\site-packages (1.1.2)\n",
      "Requirement already satisfied: numpy>=1.15.4 in f:\\programs\\anaconda\\lib\\site-packages (from pandas) (1.18.1)\n",
      "Requirement already satisfied: python-dateutil>=2.7.3 in f:\\programs\\anaconda\\lib\\site-packages (from pandas) (2.8.1)\n",
      "Requirement already satisfied: pytz>=2017.2 in f:\\programs\\anaconda\\lib\\site-packages (from pandas) (2019.3)\n",
      "Requirement already satisfied: six>=1.5 in f:\\programs\\anaconda\\lib\\site-packages (from python-dateutil>=2.7.3->pandas) (1.14.0)\n",
      "Note: you may need to restart the kernel to use updated packages.\n"
     ]
    }
   ],
   "source": [
    "pip install pandas"
   ]
  },
  {
   "cell_type": "code",
   "execution_count": 23,
   "metadata": {},
   "outputs": [
    {
     "data": {
      "text/plain": [
       "'1.1.2'"
      ]
     },
     "execution_count": 23,
     "metadata": {},
     "output_type": "execute_result"
    }
   ],
   "source": [
    "import pandas as pd\n",
    "pd.__version__"
   ]
  },
  {
   "cell_type": "code",
   "execution_count": 35,
   "metadata": {},
   "outputs": [
    {
     "data": {
      "text/plain": [
       "78"
      ]
     },
     "execution_count": 35,
     "metadata": {},
     "output_type": "execute_result"
    }
   ],
   "source": [
    "%run randomNum.ipynb\n",
    "radomNumGene(1,100)"
   ]
  },
  {
   "cell_type": "code",
   "execution_count": 47,
   "metadata": {},
   "outputs": [
    {
     "data": {
      "text/plain": [
       "['C:\\\\Users\\\\DHEERAJ TIWARI\\\\30_Day_Intership_python',\n",
       " 'F:\\\\programs\\\\anaconda\\\\python37.zip',\n",
       " 'F:\\\\programs\\\\anaconda\\\\DLLs',\n",
       " 'F:\\\\programs\\\\anaconda\\\\lib',\n",
       " 'F:\\\\programs\\\\anaconda',\n",
       " '',\n",
       " 'F:\\\\programs\\\\anaconda\\\\lib\\\\site-packages',\n",
       " 'F:\\\\programs\\\\anaconda\\\\lib\\\\site-packages\\\\win32',\n",
       " 'F:\\\\programs\\\\anaconda\\\\lib\\\\site-packages\\\\win32\\\\lib',\n",
       " 'F:\\\\programs\\\\anaconda\\\\lib\\\\site-packages\\\\Pythonwin',\n",
       " 'F:\\\\programs\\\\anaconda\\\\lib\\\\site-packages\\\\IPython\\\\extensions',\n",
       " 'C:\\\\SPB_Data\\\\.ipython']"
      ]
     },
     "execution_count": 47,
     "metadata": {},
     "output_type": "execute_result"
    }
   ],
   "source": [
    "import sys\n",
    "sys.path"
   ]
  },
  {
   "cell_type": "code",
   "execution_count": 48,
   "metadata": {},
   "outputs": [
    {
     "name": "stdout",
     "output_type": "stream",
     "text": [
      "Requirement already satisfied: jovian in f:\\programs\\anaconda\\lib\\site-packages (0.2.20)\n",
      "Requirement already satisfied: uuid in f:\\programs\\anaconda\\lib\\site-packages (from jovian) (1.30)\n",
      "Requirement already satisfied: pyyaml in f:\\programs\\anaconda\\lib\\site-packages (from jovian) (5.3)\n",
      "Requirement already satisfied: requests in f:\\programs\\anaconda\\lib\\site-packages (from jovian) (2.22.0)\n",
      "Requirement already satisfied: click in f:\\programs\\anaconda\\lib\\site-packages (from jovian) (7.0)\n",
      "Requirement already satisfied: chardet<3.1.0,>=3.0.2 in f:\\programs\\anaconda\\lib\\site-packages (from requests->jovian) (3.0.4)\n",
      "Requirement already satisfied: urllib3!=1.25.0,!=1.25.1,<1.26,>=1.21.1 in f:\\programs\\anaconda\\lib\\site-packages (from requests->jovian) (1.25.8)\n",
      "Requirement already satisfied: certifi>=2017.4.17 in f:\\programs\\anaconda\\lib\\site-packages (from requests->jovian) (2019.11.28)\n",
      "Requirement already satisfied: idna<2.9,>=2.5 in f:\\programs\\anaconda\\lib\\site-packages (from requests->jovian) (2.8)\n",
      "Note: you may need to restart the kernel to use updated packages.\n"
     ]
    }
   ],
   "source": [
    "pip install jovian  #install a package "
   ]
  },
  {
   "cell_type": "code",
   "execution_count": null,
   "metadata": {},
   "outputs": [],
   "source": [
    "pip uninstall jovian  #uninstall a package "
   ]
  }
 ],
 "metadata": {
  "kernelspec": {
   "display_name": "Python 3",
   "language": "python",
   "name": "python3"
  },
  "language_info": {
   "codemirror_mode": {
    "name": "ipython",
    "version": 3
   },
   "file_extension": ".py",
   "mimetype": "text/x-python",
   "name": "python",
   "nbconvert_exporter": "python",
   "pygments_lexer": "ipython3",
   "version": "3.7.6"
  }
 },
 "nbformat": 4,
 "nbformat_minor": 4
}
