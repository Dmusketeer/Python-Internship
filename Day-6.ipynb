{
 "cells": [
  {
   "cell_type": "code",
   "execution_count": 2,
   "metadata": {},
   "outputs": [
    {
     "name": "stdout",
     "output_type": "stream",
     "text": [
      "12\n",
      "original list: [1, 2, 3, 4, 5, 6, 7, 8, 9, 10, 11]\n",
      "after adding +2 to every value: [3, 4, 5, 6, 7, 8, 9, 10, 11, 12, 13]\n"
     ]
    }
   ],
   "source": [
    "# Que 1)•\tWrite a program to loop through a list of numbers and add +2 to every value to elements in list\n",
    "n=int(input(''))\n",
    "lst=[i for i in range(1,n)]\n",
    "print('original list:',lst)\n",
    "lst1=[]\n",
    "for i in lst:\n",
    "    lst1.append(i+2)\n",
    "print('after adding +2 to every value:',lst1)"
   ]
  },
  {
   "cell_type": "code",
   "execution_count": 3,
   "metadata": {},
   "outputs": [
    {
     "name": "stdout",
     "output_type": "stream",
     "text": [
      "54321\n",
      "4321\n",
      "321\n",
      "21\n",
      "1\n"
     ]
    }
   ],
   "source": [
    "# Que 2)•\tWrite a program to get the below pattern\n",
    "#     54321\n",
    "#     4321\n",
    "#     321\n",
    "#     21\n",
    "#     1\n",
    "\n",
    "for i in range(5,0,-1):\n",
    "    for j in range(i):\n",
    "        print(i-j,end='')\n",
    "    print('')"
   ]
  },
  {
   "cell_type": "code",
   "execution_count": 4,
   "metadata": {},
   "outputs": [
    {
     "name": "stdout",
     "output_type": "stream",
     "text": [
      "Fibonacci sequence:  0 1 1 2 3 5 8 13 21 34 \n"
     ]
    }
   ],
   "source": [
    "# Que 3) •\tPython Program to Print the Fibonacci sequence: 0, 1, 1, 2, 3, 5, 8....\n",
    "def fib_iter(n):\n",
    "    a=1\n",
    "    b=1\n",
    "    if n==1:\n",
    "        print('0')\n",
    "    elif n==2:\n",
    "        print('0','1')\n",
    "    else:\n",
    "        print(\"Fibonacci sequence: \", end=' ')\n",
    "        print('0',a,b,end=' ')\n",
    "        for i in range(n-3):\n",
    "            total = a + b\n",
    "            b=a\n",
    "            a= total\n",
    "            print(total,end=' ')\n",
    "        print()      \n",
    "fib_iter(10)"
   ]
  },
  {
   "cell_type": "code",
   "execution_count": 5,
   "metadata": {},
   "outputs": [
    {
     "name": "stdout",
     "output_type": "stream",
     "text": [
      "9 X 1 = 9\n",
      "9 X 2 = 18\n",
      "9 X 3 = 27\n",
      "9 X 4 = 36\n",
      "9 X 5 = 45\n",
      "9 X 6 = 54\n",
      "9 X 7 = 63\n",
      "9 X 8 = 72\n",
      "9 X 9 = 81\n",
      "9 X 10 = 90\n"
     ]
    }
   ],
   "source": [
    "# Que 4:•\tWrite a program to print the multiplication table of 9\n",
    "i=9\n",
    "for j in range(1,11):\n",
    "    print(i,'X',j,'=',i*j)"
   ]
  },
  {
   "cell_type": "code",
   "execution_count": 6,
   "metadata": {},
   "outputs": [
    {
     "name": "stdout",
     "output_type": "stream",
     "text": [
      "12\n",
      "number is Positive\n"
     ]
    }
   ],
   "source": [
    "# Que 5)•\tCheck if a program is negative or positive\n",
    "num=int(input(''))\n",
    "if num < 0:\n",
    "    print('number is negative')\n",
    "else:\n",
    "    print('number is Positive')"
   ]
  },
  {
   "cell_type": "code",
   "execution_count": 7,
   "metadata": {},
   "outputs": [
    {
     "name": "stdout",
     "output_type": "stream",
     "text": [
      "enter the days:368\n",
      "age is : 1 year 0 week/s 3 days\n"
     ]
    }
   ],
   "source": [
    "#Que 6):•\tWrite a program to convert the number of days to ages\n",
    "numberOfDays=int(input('enter the days:'))\n",
    "daysInWeek=7\n",
    "year = int(numberOfDays / 365) \n",
    "week = int((numberOfDays % 365) / daysInWeek) \n",
    "days = (numberOfDays % 365) %  daysInWeek\n",
    "print('age is :',year,'year',week,\"week/s\",days,'days')"
   ]
  },
  {
   "cell_type": "code",
   "execution_count": 8,
   "metadata": {},
   "outputs": [
    {
     "name": "stdout",
     "output_type": "stream",
     "text": [
      "sin(pi) in radian: 2.1374118819130998e-18\n",
      "tan(pi): -1.2246467991473532e-16\n"
     ]
    }
   ],
   "source": [
    "# Que 7):•\tSolve Trigonometry problem using math function write a program to solve us-ing math function\n",
    "import math\n",
    "print('sin(pi) in radian:',math.radians(math.sin(math.pi)))\n",
    "print('tan(pi):',math.tan(math.pi))"
   ]
  },
  {
   "cell_type": "code",
   "execution_count": 9,
   "metadata": {},
   "outputs": [
    {
     "name": "stdout",
     "output_type": "stream",
     "text": [
      "Calculator\n",
      "1.Add\n",
      "2.Substract\n",
      "3.Multiply\n",
      "4.Divide\n",
      "Enter Choice(1-4): 1\n",
      "Enter A:15\n",
      "Enter B:12\n",
      "Sum =  27\n"
     ]
    }
   ],
   "source": [
    "# Que:8)•\tCreate a calculator only on a code level by using if condition (Basic arithmetic calculation)\n",
    "# menus\n",
    "print(\"Calculator\")\n",
    "print(\"1.Add\")\n",
    "print(\"2.Substract\")\n",
    "print(\"3.Multiply\")\n",
    "print(\"4.Divide\")\n",
    "\n",
    "# input choice\n",
    "ch=int(input(\"Enter Choice(1-4): \"))\n",
    "\n",
    "if ch==1:\n",
    "    a=int(input(\"Enter A:\"))\n",
    "    b=int(input(\"Enter B:\"))\n",
    "    c=a+b\n",
    "    print(\"Sum = \",c)\n",
    "elif ch==2:\n",
    "    a=int(input(\"Enter A:\"))\n",
    "    b=int(input(\"Enter B:\"))\n",
    "    c=a-b\n",
    "    print(\"Difference = \",c)\n",
    "elif  ch==3:\n",
    "    a=int(input(\"Enter A:\"))\n",
    "    b=int(input(\"Enter B:\"))\n",
    "    c=a*b\n",
    "    print(\"Product = \",c)\n",
    "elif ch==4:\n",
    "    a=int(input(\"Enter A:\"))\n",
    "    b=int(input(\"Enter B:\"))\n",
    "    c=a/b\n",
    "    print(\"Quotient = \",c)\n",
    "else:\n",
    "    print(\"Invalid Choice\")"
   ]
  }
 ],
 "metadata": {
  "kernelspec": {
   "display_name": "Python 3",
   "language": "python",
   "name": "python3"
  },
  "language_info": {
   "codemirror_mode": {
    "name": "ipython",
    "version": 3
   },
   "file_extension": ".py",
   "mimetype": "text/x-python",
   "name": "python",
   "nbconvert_exporter": "python",
   "pygments_lexer": "ipython3",
   "version": "3.7.6"
  }
 },
 "nbformat": 4,
 "nbformat_minor": 4
}
