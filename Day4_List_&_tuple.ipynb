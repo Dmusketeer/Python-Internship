{
 "cells": [
  {
   "cell_type": "code",
   "execution_count": 26,
   "metadata": {},
   "outputs": [
    {
     "name": "stdout",
     "output_type": "stream",
     "text": [
      "enter the number of element:6\n",
      "[1, 2, 3, 4, 5]\n",
      "[1, 2, 3, 4, 5, 6]\n",
      "[1, 2, 4, 5, 6]\n",
      "6\n",
      "1\n"
     ]
    }
   ],
   "source": [
    "# 1.\tWrite a program to create a list of n integer values and do the following\n",
    "#     •\tAdd an item in to the list (using function)\n",
    "#     •\tDelete (using function)\n",
    "#     •\tStore the largest number from the list to a variable\n",
    "#     •\tStore the Smallest number from the list to a variable\n",
    "n=int(input('enter the number of element:'))\n",
    "lst=[int(i) for i in range(1,n)]\n",
    "print(lst)\n",
    "lst.append(6)\n",
    "print(lst)\n",
    "del lst[2]\n",
    "print(lst)\n",
    "maxi=max(lst)\n",
    "print(maxi)\n",
    "min=min(lst)\n",
    "print(min)"
   ]
  },
  {
   "cell_type": "code",
   "execution_count": 32,
   "metadata": {},
   "outputs": [
    {
     "name": "stdout",
     "output_type": "stream",
     "text": [
      "(8, 7, 4, 1, 2)\n"
     ]
    }
   ],
   "source": [
    "# 2.Create a tuple and print the reverse of the created tuple\n",
    "tup=(2,1,4,7,8)\n",
    "def Reverse(tup): \n",
    "    newTup = tup[::-1] \n",
    "    return newTup\n",
    "print(Reverse(tup))"
   ]
  },
  {
   "cell_type": "code",
   "execution_count": 33,
   "metadata": {},
   "outputs": [
    {
     "name": "stdout",
     "output_type": "stream",
     "text": [
      "[2, 1, 4, 7, 8]\n"
     ]
    }
   ],
   "source": [
    "# 3.Create a tuple and convert tuple into list\n",
    "tup=(2,1,4,7,8)\n",
    "print(list(tup))"
   ]
  },
  {
   "cell_type": "code",
   "execution_count": null,
   "metadata": {},
   "outputs": [],
   "source": []
  }
 ],
 "metadata": {
  "kernelspec": {
   "display_name": "Python 3",
   "language": "python",
   "name": "python3"
  },
  "language_info": {
   "codemirror_mode": {
    "name": "ipython",
    "version": 3
   },
   "file_extension": ".py",
   "mimetype": "text/x-python",
   "name": "python",
   "nbconvert_exporter": "python",
   "pygments_lexer": "ipython3",
   "version": "3.7.6"
  }
 },
 "nbformat": 4,
 "nbformat_minor": 4
}
